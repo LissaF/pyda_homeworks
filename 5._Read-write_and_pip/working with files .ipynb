{
 "cells": [
  {
   "cell_type": "code",
   "execution_count": null,
   "id": "9071a349",
   "metadata": {},
   "outputs": [],
   "source": [
    "Домашнее задание\n",
    "Переведите содержимое файла purchase_log.txt в словарь purchases вида:\n",
    "{'1840e0b9d4': 'Продукты', ...}\n",
    "Для каждого user_id в файле visit_log.csv определите третий столбец с категорией покупки \n",
    "(если покупка была, сам файл visit_log.csv изменять не надо). \n",
    "Запишите в файл funnel.csv визиты из файла visit_log.csv, в которых были покупки с указанием категории.\n",
    "Учтите условия на данные:\n",
    "\n",
    "содержимое purchase_log.txt помещается в оперативную память компьютера\n",
    "содержимое visit_log.csv - нет; используйте только построчную обработку этого файла"
   ]
  },
  {
   "cell_type": "code",
   "execution_count": null,
   "id": "4935ae77",
   "metadata": {},
   "outputs": [],
   "source": [
    "i = 0\n",
    "dic = {}\n",
    "\n",
    "with open('purchase_log.txt','r', encoding = 'utf-8') as f:\n",
    "    f.readline()\n",
    "    for line in f:\n",
    "        line = line.strip() #\n",
    "        dict_ = json.loads(line) \n",
    "        key = dict_['user_id']\n",
    "        value = dict_['category']\n",
    "        dic[key] = value\n",
    "        i = i+1\n",
    "        if i > 10:\n",
    "            break\n",
    "with open('visit_log.csv', 'r', encoding = 'utf-8') as f, open('funnel.csv','w', encoding = 'utf-8') as f_2:\n",
    "    for i, line in enumerate(f):\n",
    "        line = line.strip().split(',')\n",
    "        if line[0] in dic.keys():\n",
    "            line.append(dic[line[0]])\n",
    "            add_line = ','.join(line)\n",
    "            f_2.write(add_line + '\\n') "
   ]
  }
 ],
 "metadata": {
  "kernelspec": {
   "display_name": "Python 3 (ipykernel)",
   "language": "python",
   "name": "python3"
  },
  "language_info": {
   "codemirror_mode": {
    "name": "ipython",
    "version": 3
   },
   "file_extension": ".py",
   "mimetype": "text/x-python",
   "name": "python",
   "nbconvert_exporter": "python",
   "pygments_lexer": "ipython3",
   "version": "3.7.16"
  }
 },
 "nbformat": 4,
 "nbformat_minor": 5
}
