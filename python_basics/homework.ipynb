{
  "cells": [
    {
      "cell_type": "markdown",
      "metadata": {
        "id": "m2kwRVN6NpT-"
      },
      "source": [
        "# Основы Python"
      ]
    },
    {
      "cell_type": "markdown",
      "source": [
        "Задание 1\n",
        "Даны 2 переменных, в которых хранятся строки произвольной длины: phrase_1 и phrase_2.\n",
        "Напишите код, который проверяет какая из этих строк длиннее.\n",
        "\n",
        "Примеры работы программы:\n",
        "\n",
        "phrase_1 = 'Насколько проще было бы писать программы, если бы не заказчики'\n",
        "phrase_2 = '640Кб должно хватить для любых задач. Билл Гейтс (по легенде)'\n",
        "\n",
        "Результат:\n",
        "Фраза 1 длиннее фразы 2 2.\n",
        "\n",
        "phrase_1 = '640Кб должно хватить для любых задач. Билл Гейтс (по легенде)'\n",
        "phrase_2 = 'Насколько проще было бы писать программы, если бы не заказчики'\n",
        "Результат:\n",
        "Фраза 2 длиннее фразы 1 3.\n",
        "\n",
        "phrase_1 = 'Насколько проще было бы писать программы, если бы не заказчики'\n",
        "phrase_2 = 'Насколько проще было бы писать программы, если бы не заказчики'\n",
        "Результат:\n",
        "Фразы равной длины\n",
        "\n",
        "\n"
      ],
      "metadata": {
        "id": "b7S5INizhFWx"
      }
    },
    {
      "cell_type": "code",
      "source": [
        "phrase_1 = 'Насколько проще было бы писать программы, если бы не заказчики'\n",
        "phrase_2 = '640Кб должно хватить для любых задач. Билл Гейтс (по легенде) '\n",
        "\n",
        "if len(phrase_1) > len(phrase_2):\n",
        "  print('Фраза 1 длиннее фразы 2')\n",
        "elif len(phrase_1) < len(phrase_2):\n",
        "  print('Фраза 2 длиннее фразы 1')\n",
        "else:\n",
        "  print('Фразы равной длины')"
      ],
      "metadata": {
        "colab": {
          "base_uri": "https://localhost:8080/"
        },
        "id": "vl-IcsydQPtW",
        "outputId": "bffbae30-7208-45cc-ea0d-de6fe791b350"
      },
      "execution_count": null,
      "outputs": [
        {
          "output_type": "stream",
          "name": "stdout",
          "text": [
            "Фразы равной длины\n"
          ]
        }
      ]
    },
    {
      "cell_type": "markdown",
      "source": [
        "Задание 2\n",
        "Дана переменная, в которой хранится число (год). Необходимо написать программу, которая выведет, является ли данный год високосным или обычным.\n",
        "\n",
        "Пример работы программы:\n",
        "\n",
        "year = 2020\n",
        "Результат:\n",
        "Високосный год\n",
        "\n",
        "year = 2019\n",
        "Результат:\n",
        "Обычный год"
      ],
      "metadata": {
        "id": "GEGo_kiYnqoF"
      }
    },
    {
      "cell_type": "code",
      "source": [
        "year = 2018\n",
        "\n",
        "if year % 4 == 0:\n",
        "  print('Високосный год')\n",
        "else:\n",
        "  print('Обычный год')"
      ],
      "metadata": {
        "colab": {
          "base_uri": "https://localhost:8080/"
        },
        "id": "yFSTAEliRS70",
        "outputId": "94604013-c3b0-481c-d16f-ed7c4da19a59"
      },
      "execution_count": null,
      "outputs": [
        {
          "output_type": "stream",
          "name": "stdout",
          "text": [
            "Обычный год\n"
          ]
        }
      ]
    },
    {
      "cell_type": "markdown",
      "source": [
        "Задание 3\n",
        "Необходимо написать программу, которая будет запрашивать у пользователя месяц и дату рождения и выводить соответствующий знак зодиака.\n",
        "\n",
        "Пример работы программы:\n",
        "\n",
        "Введите день:\n",
        "30\n",
        "\n",
        "Введите месяц:\n",
        "Август\n",
        "Результат:\n",
        "Ваш знак зодиака: Дева\n",
        "\n",
        "Введите день:\n",
        "29\n",
        "\n",
        "Введите месяц:\n",
        "Октябрь\n",
        "Результат:\n",
        "Ваш знак зодиака: Скорпион"
      ],
      "metadata": {
        "id": "i1vE-mX-n2FQ"
      }
    },
    {
      "cell_type": "code",
      "source": [
        "day = int(input('Введите день: \\n'))\n",
        "month = input('Введите месяц: \\n')\n",
        "\n",
        "if month == 'Январь':\n",
        "  if day >= 20:\n",
        "    print('Ваш знак зодиака: Водолей')\n",
        "  else:\n",
        "    print('Ваш знак зодиака: Козерог')\n",
        "elif month == 'Февраль':\n",
        "  if day >= 19:\n",
        "    print('Ваш знак зодиака: Рыбы')\n",
        "  else:\n",
        "    print('Ваш знак зодиака: Водолей')\n",
        "elif month == 'Март':\n",
        "  if day >= 21:\n",
        "    print('Ваш знак зодиака: Овен')\n",
        "  else:\n",
        "    print('Ваш знак зодиака: Рыбы')\n",
        "elif month == 'Апрель':\n",
        "  if day >= 20:\n",
        "    print('Ваш знак зодиака: Телец')\n",
        "  else:\n",
        "    print('Ваш знак зодиака: Овен')\n",
        "elif month == 'Май':\n",
        "  if day >= 21:\n",
        "    print('Ваш знак зодиака: Близнецы')\n",
        "  else:\n",
        "    print('Ваш знак зодиака: Телец')\n",
        "elif month == 'Июнь':\n",
        "  if day >= 21:\n",
        "    print('Ваш знак зодиака: Рак')\n",
        "  else:\n",
        "    print('Ваш знак зодиака: Близнецы')\n",
        "elif month == 'Июль':\n",
        "  if day >= 23:\n",
        "    print('Ваш знак зодиака: Лев')\n",
        "  else:\n",
        "    print('Ваш знак зодиака: Рак')\n",
        "elif month == 'Август':\n",
        "  if day >= 23:\n",
        "    print('Ваш знак зодиака: Дева')\n",
        "  else:\n",
        "    print('Ваш знак зодиака: Лев')\n",
        "elif month == 'Сентябрь':\n",
        "  if day >= 23:\n",
        "    print('Ваш знак зодиака: Весы')\n",
        "  else:\n",
        "    print('Ваш знак зодиака: Дева')\n",
        "elif month == 'Октябрь':\n",
        "  if day >= 23:\n",
        "    print('Ваш знак зодиака: Скорпион')\n",
        "  else:\n",
        "    print('Ваш знак зодиака: Весы')\n",
        "elif month == 'Ноябрь':\n",
        "  if day >= 22:\n",
        "    print('Ваш знак зодиака: Стрелец')\n",
        "  else:\n",
        "    print('Ваш знак зодиака: Скорпион')\n",
        "elif month == 'Декабрь':\n",
        "  if day >= 22:\n",
        "    print('Ваш знак зодиака: Козерог')\n",
        "  else:\n",
        "    print('Ваш знак зодиака: Стрелец')\n",
        "    \n"
      ],
      "metadata": {
        "colab": {
          "base_uri": "https://localhost:8080/"
        },
        "id": "3JVP-63lR0_i",
        "outputId": "5cb6ab32-6daf-4de0-c6f8-a3a0a28988dc"
      },
      "execution_count": null,
      "outputs": [
        {
          "output_type": "stream",
          "name": "stdout",
          "text": [
            "Введите день: \n",
            "27\n",
            "Введите месяц: Апрель\n",
            "Ваш знак зодиака: Телец\n"
          ]
        }
      ]
    },
    {
      "cell_type": "markdown",
      "source": [
        "Задание 4\n",
        "Вам нужно написать программу для подбора упаковок по размерам товара. Размеры (ширина, длина, высота) хранятся в переменных (в сантиметрах):\n",
        "\n",
        "Используйте следующие правила:\n",
        "\n",
        "если каждое из трех измерений менее или равно 15 сантиметрам, то выведите на экран \"Коробка №1\";\n",
        "если хотя бы одно из измерений больше 2 метров, то выводите \"Упаковка для лыж\";\n",
        "если хотя бы одно из измерений больше 15 сантиметров, но менее 50 сантиметров, то выводите \"Коробка №2\";\n",
        "во всех остальных случаях выводите \"Коробка №3\".\n",
        "Пример работы программы:\n",
        "\n",
        "width = 15\n",
        "length = 55\n",
        "height = 15\n",
        "Результат:\n",
        "Стандартная коробка №3\n",
        "\n",
        "width = 45\n",
        "length = 205\n",
        "height = 45\n",
        "Результат:\n",
        "Ищите упаковку для лыж"
      ],
      "metadata": {
        "id": "Gd8ZoNBcn8Rl"
      }
    },
    {
      "cell_type": "code",
      "execution_count": null,
      "metadata": {
        "id": "5OaqeEAONpXR",
        "outputId": "dd8d676b-615e-4fca-801e-97214d5227f5",
        "colab": {
          "base_uri": "https://localhost:8080/"
        }
      },
      "outputs": [
        {
          "output_type": "stream",
          "name": "stdout",
          "text": [
            "Коробка №3\n"
          ]
        }
      ],
      "source": [
        "width = 15\n",
        "length = 55\n",
        "height = 15\n",
        "\n",
        "if (width <= 15 and length <= 15 and height <= 15):\n",
        "    print('Коробка №1')\n",
        "elif (length > 200 or width > 200 or height > 200):\n",
        "    print('Упаковка для лыж')\n",
        "elif ((width > 15 and width < 50) or (length > 15 and length < 50) or (height > 15 and height < 50)):\n",
        "    print('Коробка №2')\n",
        "else:\n",
        "    print('Коробка №3')"
      ]
    },
    {
      "cell_type": "markdown",
      "source": [
        "\n",
        "Задание 5 (необязательное)\n",
        "Дана переменная, в которой хранится шестизначное число (номер проездного билета). Напишите программу, которая будет определять, является ли данный билет \"счастливым\". Билет считается счастливым, если сумма первых трех цифр совпадает с суммой последних трех цифр номера.\n",
        "\n",
        "Примеры работы программы:\n",
        "\n",
        "number = 123456\n",
        "Результат:\n",
        "Несчастливый билет\n",
        "\n",
        "number = 123321\n",
        "Результат:\n",
        "Счастливый билет"
      ],
      "metadata": {
        "id": "NBRrWUmfoD0V"
      }
    },
    {
      "cell_type": "code",
      "source": [
        "number = 456708\n",
        "ticket = [int(i) for i in str(number)]\n",
        "sum_first = ticket[0]+ticket[1]+ticket[2]\n",
        "sum_second = ticket[3]+ticket[4]+ticket[5]\n",
        "if sum_first == sum_second:\n",
        "  print('Счастливый билет')\n",
        "else:\n",
        "  print('Несчастливый билет')"
      ],
      "metadata": {
        "colab": {
          "base_uri": "https://localhost:8080/"
        },
        "id": "mtsS_Ic9_OWD",
        "outputId": "ba4fdc20-f248-4934-8538-c339644065cf"
      },
      "execution_count": null,
      "outputs": [
        {
          "output_type": "stream",
          "name": "stdout",
          "text": [
            "Счастливый билет\n"
          ]
        }
      ]
    },
    {
      "cell_type": "markdown",
      "source": [
        "Напишите программу, которая сможет вычислять площади трех фигур (круг, треугольник и прямоугольник). Тип фигуры запрашиваем через пользовательский ввод, после чего делаем запрос характеристик фигуры:\n",
        "\n",
        "если пользователь выбрал круг, запрашиваем его радиус,\n",
        "если треугольник – длины трех его сторон;\n",
        "если прямоугольник – длины двух его сторон.\n",
        "Пример работы программы:\n",
        "\n",
        "Введите тип фигуры:\n",
        "Круг\n",
        "\n",
        "Введите радиус круга:\n",
        "10\n",
        "Результат:\n",
        "Площадь круга: 314.16\n",
        "\n",
        "Введите тип фигуры:\n",
        "Треугольник\n",
        "\n",
        "Введите длину стороны A:\n",
        "2\n",
        "\n",
        "Введите длину стороны B:\n",
        "2\n",
        "\n",
        "Введите длину стороны C:\n",
        "3\n",
        "Результат:\n",
        "Площадь треугольника: 1.98"
      ],
      "metadata": {
        "id": "P-tPoxkdBa3r"
      }
    },
    {
      "cell_type": "code",
      "source": [
        "import numpy as np\n",
        "\n",
        "figure_type = input('Введите тип фигуры: ')\n",
        "if figure_type == 'Круг':\n",
        "  radius = int(input('Введите радиус круга: '))\n",
        "  circle_square = 2*np.pi*(radius**2)\n",
        "  print(\"Площадь круга: %.2f\" % round(circle_square, 2))\n",
        "elif figure_type == 'Треугольник':\n",
        "  a_side = int(input('Введите длину стороны А: '))\n",
        "  b_side = int(input('Введите длину стороны В: '))\n",
        "  c_side = int(input('Введите длину стороны C: '))\n",
        "  triangle_perimeter = (a_side+b_side+c_side)/2\n",
        "  triangle_square = (triangle_perimeter*(triangle_perimeter - a_side)*(triangle_perimeter - b_side)*(triangle_perimeter - c_side)) **(0.5)\n",
        "  print(\"Площадь треугольника: %.2f\" % round(triangle_square, 2))\n",
        "elif figure_type == 'Прямоугольник':\n",
        "  a = int(input('Введите длину стороны A: '))\n",
        "  b = int(input('Введите длину стороны В: '))\n",
        "  rectangle_square = (a + b) / 2\n",
        "  print(\"Площадь прямоугольника: %.2f\" % rectangle_square)\n",
        "else:\n",
        "  print('Не знаю такой фигуры')"
      ],
      "metadata": {
        "colab": {
          "base_uri": "https://localhost:8080/"
        },
        "id": "pE65Q4C0BR26",
        "outputId": "48d7e6cf-4c14-4f17-e959-a9e8152e7318"
      },
      "execution_count": null,
      "outputs": [
        {
          "output_type": "stream",
          "name": "stdout",
          "text": [
            "Введите тип фигуры: Прямоугольник\n",
            "Введите длину стороны A: 2\n",
            "Введите длину стороны В: 3\n",
            "Площадь прямоугольника: 2.50\n"
          ]
        }
      ]
    }
  ],
  "metadata": {
    "kernelspec": {
      "display_name": "Python 3 (ipykernel)",
      "language": "python",
      "name": "python3"
    },
    "language_info": {
      "codemirror_mode": {
        "name": "ipython",
        "version": 3
      },
      "file_extension": ".py",
      "mimetype": "text/x-python",
      "name": "python",
      "nbconvert_exporter": "python",
      "pygments_lexer": "ipython3",
      "version": "3.7.16"
    },
    "colab": {
      "provenance": [],
      "toc_visible": true
    }
  },
  "nbformat": 4,
  "nbformat_minor": 0
}