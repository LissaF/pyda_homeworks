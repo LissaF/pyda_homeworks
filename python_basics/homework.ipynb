{
  "cells": [
    {
      "cell_type": "markdown",
      "metadata": {
        "id": "m2kwRVN6NpT-"
      },
      "source": [
        "# Основы Python"
      ]
    },
    {
      "cell_type": "markdown",
      "metadata": {
        "id": "eoDbYXpZNpUe"
      },
      "source": [
        "### Про выполнение команд\n",
        "* Shift + Enter - выполнить код в ячейке и перейти на следующую\n",
        "* Ctrl + Enter - выполнить и остаться\n",
        "\n",
        "### Немного полезностей и про markdown:\n",
        "* перевести ячейку из кода в комментарии можно с помощью 'Esc + m' или просто 'm', если вы не еще не успели сделать ее активной\n",
        "* добавить новую ячейку можно аналогичным образом через 'b'\n",
        "* Jupyter понимает эти команды и в русской раскладке\n",
        "* все это можно сделать и через верхнюю панель, но это дольше\n",
        "* список горячих клавиш Ctrl+Shift+P (Command+Shift+P для мака)"
      ]
    },
    {
      "cell_type": "markdown",
      "metadata": {
        "id": "FK2O1AsvNpUl"
      },
      "source": [
        "## Арифметические операции"
      ]
    },
    {
      "cell_type": "markdown",
      "metadata": {
        "id": "i_Ot39zHNpUo"
      },
      "source": [
        "print(1 + 1)"
      ]
    },
    {
      "cell_type": "code",
      "execution_count": null,
      "metadata": {
        "id": "Hh-T38ofNpUs",
        "outputId": "901b9aa6-c489-42b2-b2d4-27d23753ae8d"
      },
      "outputs": [
        {
          "name": "stdout",
          "output_type": "stream",
          "text": [
            "1 11\n"
          ]
        }
      ],
      "source": [
        "print(2 - 1, 5 + 6)"
      ]
    },
    {
      "cell_type": "code",
      "execution_count": null,
      "metadata": {
        "id": "ihH3Fu7UNpU9",
        "outputId": "ccdd4383-7b44-45e4-f905-4a87fc40e81e"
      },
      "outputs": [
        {
          "data": {
            "text/plain": [
              "2"
            ]
          },
          "execution_count": 3,
          "metadata": {},
          "output_type": "execute_result"
        }
      ],
      "source": [
        "1 + 1 # для вывода в jupyter notebook не обязательно использовать print"
      ]
    },
    {
      "cell_type": "code",
      "execution_count": null,
      "metadata": {
        "id": "ryGF1iZ4NpVB",
        "outputId": "f989c0d8-69de-44bb-a505-e599fa10eda4"
      },
      "outputs": [
        {
          "data": {
            "text/plain": [
              "1"
            ]
          },
          "execution_count": 4,
          "metadata": {},
          "output_type": "execute_result"
        }
      ],
      "source": [
        "1 + 1\n",
        "2 - 1"
      ]
    },
    {
      "cell_type": "code",
      "execution_count": null,
      "metadata": {
        "id": "tiGQsityNpVF",
        "outputId": "edae93e5-7f88-49cd-a107-2b4b4c25ec1a"
      },
      "outputs": [
        {
          "name": "stdout",
          "output_type": "stream",
          "text": [
            "2\n",
            "1\n"
          ]
        }
      ],
      "source": [
        "print(1 + 1)\n",
        "print(2 - 1)"
      ]
    },
    {
      "cell_type": "code",
      "execution_count": null,
      "metadata": {
        "id": "B5WYl4XZNpVL"
      },
      "outputs": [],
      "source": [
        "5 * 6"
      ]
    },
    {
      "cell_type": "code",
      "execution_count": null,
      "metadata": {
        "id": "pm9V-9cDNpVO"
      },
      "outputs": [],
      "source": [
        "10 / 4"
      ]
    },
    {
      "cell_type": "code",
      "execution_count": null,
      "metadata": {
        "id": "OZdmgPX6NpVS",
        "colab": {
          "base_uri": "https://localhost:8080/"
        },
        "outputId": "d1908dab-4961-405c-b2c2-60d9cfd67072"
      },
      "outputs": [
        {
          "output_type": "execute_result",
          "data": {
            "text/plain": [
              "2"
            ]
          },
          "metadata": {},
          "execution_count": 6
        }
      ],
      "source": [
        "10 // 4"
      ]
    },
    {
      "cell_type": "code",
      "execution_count": null,
      "metadata": {
        "id": "3dvdd_B5NpVV"
      },
      "outputs": [],
      "source": [
        "2 ** 5"
      ]
    },
    {
      "cell_type": "code",
      "execution_count": null,
      "metadata": {
        "id": "YwlS5TeeNpVY",
        "colab": {
          "base_uri": "https://localhost:8080/"
        },
        "outputId": "500f86c2-3f21-43ac-f7e1-0d6cf410962e"
      },
      "outputs": [
        {
          "output_type": "execute_result",
          "data": {
            "text/plain": [
              "2"
            ]
          },
          "metadata": {},
          "execution_count": 7
        }
      ],
      "source": [
        "-4 % 3"
      ]
    },
    {
      "cell_type": "code",
      "execution_count": null,
      "metadata": {
        "id": "30DJ3im9NpVa"
      },
      "outputs": [],
      "source": [
        "(5 - 3) + 2 * 6"
      ]
    },
    {
      "cell_type": "markdown",
      "metadata": {
        "id": "INs7a5AnNpVd"
      },
      "source": [
        "## Переменные"
      ]
    },
    {
      "cell_type": "code",
      "execution_count": null,
      "metadata": {
        "id": "QZe8pnLcNpVg"
      },
      "outputs": [],
      "source": [
        "a = 10 + 20\n",
        "b = a * 30\n",
        "c = a / b\n",
        "print('Ответ: ', c)"
      ]
    },
    {
      "cell_type": "code",
      "execution_count": null,
      "metadata": {
        "scrolled": true,
        "id": "Z17ECMUUNpVi"
      },
      "outputs": [],
      "source": [
        "print(x)\n",
        "\n",
        "x = 10"
      ]
    },
    {
      "cell_type": "markdown",
      "metadata": {
        "id": "b2iP1z0zNpVl"
      },
      "source": [
        "## Строки"
      ]
    },
    {
      "cell_type": "code",
      "execution_count": null,
      "metadata": {
        "id": "uTZgZWsQNpVm"
      },
      "outputs": [],
      "source": [
        "my_string_1 = 'Hello World'"
      ]
    },
    {
      "cell_type": "code",
      "execution_count": null,
      "metadata": {
        "id": "nf7Hw51TNpVp"
      },
      "outputs": [],
      "source": [
        "my_string_2 = \"Hello World!\""
      ]
    },
    {
      "cell_type": "code",
      "execution_count": null,
      "metadata": {
        "id": "b0zfRy1sNpVr"
      },
      "outputs": [],
      "source": [
        "my_string_1"
      ]
    },
    {
      "cell_type": "markdown",
      "metadata": {
        "id": "e7TouscwNpVt"
      },
      "source": [
        "## Операторы сравнения"
      ]
    },
    {
      "cell_type": "code",
      "execution_count": null,
      "metadata": {
        "id": "l0Q80xNrNpVv"
      },
      "outputs": [],
      "source": [
        "2 > 1"
      ]
    },
    {
      "cell_type": "code",
      "execution_count": null,
      "metadata": {
        "id": "4Rh5P3w_NpVx"
      },
      "outputs": [],
      "source": [
        "10 < 9"
      ]
    },
    {
      "cell_type": "code",
      "execution_count": null,
      "metadata": {
        "id": "u2nGubIFNpVz"
      },
      "outputs": [],
      "source": [
        "10 > 10"
      ]
    },
    {
      "cell_type": "code",
      "execution_count": null,
      "metadata": {
        "id": "ulOF_YGoNpV1"
      },
      "outputs": [],
      "source": [
        "10 >= 10"
      ]
    },
    {
      "cell_type": "code",
      "execution_count": null,
      "metadata": {
        "id": "O5sxqWF0NpV3"
      },
      "outputs": [],
      "source": [
        "7 == 7"
      ]
    },
    {
      "cell_type": "code",
      "execution_count": null,
      "metadata": {
        "id": "eJvyyxTANpV4"
      },
      "outputs": [],
      "source": [
        "15 != 15"
      ]
    },
    {
      "cell_type": "code",
      "execution_count": null,
      "metadata": {
        "id": "v0kgQX9TNpV6"
      },
      "outputs": [],
      "source": [
        "5 > 4 < 10"
      ]
    },
    {
      "cell_type": "code",
      "execution_count": null,
      "metadata": {
        "id": "9LfG9yCONpV8"
      },
      "outputs": [],
      "source": [
        "# сравнение строк \n",
        "print('c' > 'a')"
      ]
    },
    {
      "cell_type": "code",
      "execution_count": null,
      "metadata": {
        "id": "1f1LH2XzNpV-"
      },
      "outputs": [],
      "source": [
        "print('b' > 'B')"
      ]
    },
    {
      "cell_type": "code",
      "execution_count": null,
      "metadata": {
        "id": "dYWkbwfUNpWA"
      },
      "outputs": [],
      "source": [
        "print('abc' > 'aba')"
      ]
    },
    {
      "cell_type": "code",
      "execution_count": null,
      "metadata": {
        "id": "EhTEAxMONpWC"
      },
      "outputs": [],
      "source": [
        "len('3') < len('7')"
      ]
    },
    {
      "cell_type": "markdown",
      "metadata": {
        "id": "_zkqRgQINpWE"
      },
      "source": [
        "## Условные конструкции"
      ]
    },
    {
      "cell_type": "code",
      "execution_count": null,
      "metadata": {
        "id": "O0gfj1nQNpWG"
      },
      "outputs": [],
      "source": [
        "x= 7 \n",
        "if x % 2 == 0:\n",
        "    print(x, '- четное число')"
      ]
    },
    {
      "cell_type": "code",
      "execution_count": null,
      "metadata": {
        "id": "eHSN8MhjNpWI"
      },
      "outputs": [],
      "source": [
        "x = 5\n",
        "if x % 2 == 0:\n",
        "    print(x, '- четное число')\n",
        "else:\n",
        "    print(x, '- нечетное число')"
      ]
    },
    {
      "cell_type": "code",
      "execution_count": null,
      "metadata": {
        "id": "i12vN3vpNpWL"
      },
      "outputs": [],
      "source": [
        "# Пишем программу для определения куда направить призывника\n",
        "height = 180\n",
        "if height < 170:\n",
        "    print('В танкисты')\n",
        "\n",
        "print('Конец программы')"
      ]
    },
    {
      "cell_type": "code",
      "execution_count": null,
      "metadata": {
        "id": "J0pvWFs_NpWO"
      },
      "outputs": [],
      "source": [
        "if height < 170:\n",
        "    print('В танкисты')\n",
        "else:\n",
        "    print('В другие войска')\n",
        "print('Конец программы')"
      ]
    },
    {
      "cell_type": "code",
      "execution_count": null,
      "metadata": {
        "id": "PLAMylXzNpWQ"
      },
      "outputs": [],
      "source": [
        "# условия выполняются по порядку, как только одно выполнено - проверки останавливаются\n",
        "height = 160\n",
        "if height < 170:\n",
        "    print('В танкисты')\n",
        "elif height < 200:\n",
        "    print('В десантники')\n",
        "else:\n",
        "    print('В другие войска')\n",
        "print('Конец программы')"
      ]
    },
    {
      "cell_type": "code",
      "execution_count": null,
      "metadata": {
        "id": "hTlcPdVlNpWx"
      },
      "outputs": [],
      "source": [
        "# блоков elif может быть хоть сколько\n",
        "height = 160\n",
        "if height < 170:\n",
        "    print('В танкисты')\n",
        "elif height < 180:\n",
        "    print('На флот')\n",
        "elif height < 200:\n",
        "    print('В десантники')\n",
        "else:\n",
        "    print('В другие войска')\n",
        "print('Конец программы')"
      ]
    },
    {
      "cell_type": "markdown",
      "metadata": {
        "id": "DxGaI9SSNpW0"
      },
      "source": [
        "## Логические операторы and и or"
      ]
    },
    {
      "cell_type": "code",
      "execution_count": null,
      "metadata": {
        "id": "rKp3uAQ_NpW3"
      },
      "outputs": [],
      "source": [
        "True and True"
      ]
    },
    {
      "cell_type": "code",
      "execution_count": null,
      "metadata": {
        "id": "XkvE-fApNpW5"
      },
      "outputs": [],
      "source": [
        "FalseFalseFalseFalseTruFalseFalseFalseFalseTruTruFalseFalseFalseFalseTruFalseFalseFalseFalseTruTruTruFalseFalseFalseFalseTruFalseFalseFalseFalseTruTruFalseFalseFalseFalseTruFalseFalseFalseFalseTruTruTruTruFalseFalseFalseFalseTruFalseFalseFalseFalseTruTruFalseFalseFalseFalseTruFalseFalseFalseFalseTruTruTruFalseFalseFalseFalseTruFalseFalseFalseFalseTruTruFalseFalseFalseFalseTruFalseFalseFalseFalseTruTruTruTruTrueFalseFalseFalseFalseTruFalseFalseFalseFalseTruTruFalseFalseFalseFalseTruFalseFalseFalseFalseTruTruTruFalseFalseFalseFalseTruFalseFalseFalseFalseTruTruFalseFalseFalseFalseTruFalseFalseFalseFalseTruTruTruTruFalseFalseFalseFalseTruFalseFalseFalseFalseTruTruFalseFalseFalseFalseTruFalseFalseFalseFalseTruTruTruFalseFalseFalseFalseTruFalseFalseFalseFalseTruTruFalseFalseFalseFalseTruFalseFalseFalseFalseTruTruTruTruTrueTrueTrue and False"
      ]
    },
    {
      "cell_type": "code",
      "execution_count": null,
      "metadata": {
        "id": "aBDqysqfNpW7"
      },
      "outputs": [],
      "source": [
        "True or FaFalseFalseFalseFalseFalseFalseFalseFalselseFalseFalseFalseFalseFalseFalseFalse"
      ]
    },
    {
      "cell_type": "code",
      "execution_count": null,
      "metadata": {
        "id": "FW5OpGSQNpW9"
      },
      "outputs": [],
      "source": [
        "not True"
      ]
    },
    {
      "cell_type": "code",
      "execution_count": null,
      "metadata": {
        "colab": {
          "base_uri": "https://localhost:8080/"
        },
        "id": "sPL6rdeeNpW_",
        "outputId": "29608f58-8b09-49e3-ce51-2bb9b57f5c2e"
      },
      "outputs": [
        {
          "output_type": "execute_result",
          "data": {
            "text/plain": [
              "True"
            ]
          },
          "metadata": {},
          "execution_count": 1
        }
      ],
      "source": [
        "((9 > 7) and (2 < 4))"
      ]
    },
    {
      "cell_type": "code",
      "execution_count": null,
      "metadata": {
        "id": "9RsdrnTBNpXB"
      },
      "outputs": [],
      "source": [
        "(8 == 8) or (6 != 6)"
      ]
    },
    {
      "cell_type": "code",
      "execution_count": null,
      "metadata": {
        "id": "99De4ukeNpXD"
      },
      "outputs": [],
      "source": [
        "not(3 <= 1)"
      ]
    },
    {
      "cell_type": "code",
      "execution_count": null,
      "metadata": {
        "id": "w_4Cn9dgNpXF"
      },
      "outputs": [],
      "source": [
        "age = 19\n",
        "height = 180\n",
        "if height < 170 and age >= 18:\n",
        "    print('В танкисты')\n",
        "elif height < 185 and age >= 18:\n",
        "    print('На флот')\n",
        "elif height < 200 and age >= 18:\n",
        "    print('В десантники')\n",
        "else:\n",
        "    print('В другие войска')\n",
        "print('Конец программы')"
      ]
    },
    {
      "cell_type": "code",
      "execution_count": null,
      "metadata": {
        "id": "kK2ihbvPNpXI"
      },
      "outputs": [],
      "source": [
        "if age >= 18:\n",
        "    user_input = int(input('Введите рост'))\n",
        "    if user_input < 170:\n",
        "        print('В танкисты')\n",
        "    elif user_input < 185:\n",
        "        print('На флот')\n",
        "    elif user_input < 200:\n",
        "        print('В десантники')\n",
        "    else:\n",
        "        print('В другие войска')\n",
        "else:\n",
        "    print('Непризывной возраст')\n",
        "print('Конец программы')"
      ]
    },
    {
      "cell_type": "code",
      "execution_count": null,
      "metadata": {
        "id": "QOZJnkvmNpXK"
      },
      "outputs": [],
      "source": [
        "account_amount = 1000\n",
        "loan_amount = 1500\n",
        "days_to_pay = 6\n",
        "is_holiday = False\n",
        "\n",
        "should_notify = account_amount < loan_amount and ((days_to_pay < 10 and not is_holiday) or (days_to_pay == 15))\n",
        "should_notify"
      ]
    },
    {
      "cell_type": "code",
      "execution_count": null,
      "metadata": {
        "id": "cmlsiRiuNpXM"
      },
      "outputs": [],
      "source": [
        "account_amount < loan_amount and ((days_to_pay < 10 and not is_holiday)\n",
        "                or (days_to_pay == 15))"
      ]
    },
    {
      "cell_type": "markdown",
      "metadata": {
        "id": "ddwRRwT1NpXO"
      },
      "source": [
        "### Упражнение\n",
        "Необходим скрипт для подбора упаковок по размерам товара. Используйте следующие правила:\n",
        "- если ширина, длина и высота менее 15 сантиметров, то выведите на экран \"Коробка №1\"\n",
        "- если хотя бы один из габаритов больше 15см, но менее 50см, то выводите \"Коробка №2\"\n",
        "- если длина товара больше 2 метров, то вывести \"ищите упаковку для лыж\"\n",
        "- во всех остальных случаях пишите \"Стандартная коробка №3\""
      ]
    },
    {
      "cell_type": "code",
      "execution_count": null,
      "metadata": {
        "id": "VNQGfzNlNpXW"
      },
      "outputs": [],
      "source": [
        "# функция input принимает пользовательский ввод\n",
        "name = input('Введите имя')\n",
        "\n",
        "if name:     # пустая строка вернет False. Зачем все это? Не писать, что if name != ''\n",
        "    print('Привет, ', name)\n",
        "else:\n",
        "    print('Привет, Мир!')"
      ]
    },
    {
      "cell_type": "code",
      "execution_count": null,
      "metadata": {
        "id": "_AqA7GyGNpXY"
      },
      "outputs": [],
      "source": [
        "number = int(input('Введите число'))\n",
        "\n",
        "if number:    # 0 вернет False\n",
        "    print('Число: ', number)\n",
        "else:\n",
        "    print ('Число равно нулю')"
      ]
    },
    {
      "cell_type": "markdown",
      "source": [
        "Задание 1\n",
        "Даны 2 переменных, в которых хранятся строки произвольной длины: phrase_1 и phrase_2.\n",
        "Напишите код, который проверяет какая из этих строк длиннее.\n",
        "\n",
        "Примеры работы программы:\n",
        "\n",
        "phrase_1 = 'Насколько проще было бы писать программы, если бы не заказчики'\n",
        "phrase_2 = '640Кб должно хватить для любых задач. Билл Гейтс (по легенде)'\n",
        "\n",
        "Результат:\n",
        "Фраза 1 длиннее фразы 2 2.\n",
        "\n",
        "phrase_1 = '640Кб должно хватить для любых задач. Билл Гейтс (по легенде)'\n",
        "phrase_2 = 'Насколько проще было бы писать программы, если бы не заказчики'\n",
        "Результат:\n",
        "Фраза 2 длиннее фразы 1 3.\n",
        "\n",
        "phrase_1 = 'Насколько проще было бы писать программы, если бы не заказчики'\n",
        "phrase_2 = 'Насколько проще было бы писать программы, если бы не заказчики'\n",
        "Результат:\n",
        "Фразы равной длины\n",
        "\n",
        "Задание 2\n",
        "Дана переменная, в которой хранится число (год). Необходимо написать программу, которая выведет, является ли данный год високосным или обычным.\n",
        "\n",
        "Пример работы программы:\n",
        "\n",
        "year = 2020\n",
        "Результат:\n",
        "Високосный год\n",
        "\n",
        "year = 2019\n",
        "Результат:\n",
        "Обычный год\n",
        "\n",
        "Задание 3\n",
        "Необходимо написать программу, которая будет запрашивать у пользователя месяц и дату рождения и выводить соответствующий знак зодиака.\n",
        "\n",
        "Пример работы программы:\n",
        "\n",
        "Введите день:\n",
        "30\n",
        "\n",
        "Введите месяц:\n",
        "Август\n",
        "Результат:\n",
        "Ваш знак зодиака: Дева\n",
        "\n",
        "Введите день:\n",
        "29\n",
        "\n",
        "Введите месяц:\n",
        "Октябрь\n",
        "Результат:\n",
        "Ваш знак зодиака: Скорпион\n",
        "\n",
        "Задание 4\n",
        "Вам нужно написать программу для подбора упаковок по размерам товара. Размеры (ширина, длина, высота) хранятся в переменных (в сантиметрах):\n",
        "\n",
        "Используйте следующие правила:\n",
        "\n",
        "если каждое из трех измерений менее или равно 15 сантиметрам, то выведите на экран \"Коробка №1\";\n",
        "если хотя бы одно из измерений больше 2 метров, то выводите \"Упаковка для лыж\";\n",
        "если хотя бы одно из измерений больше 15 сантиметров, но менее 50 сантиметров, то выводите \"Коробка №2\";\n",
        "во всех остальных случаях выводите \"Коробка №3\".\n",
        "Пример работы программы:\n",
        "\n",
        "width = 15\n",
        "length = 55\n",
        "height = 15\n",
        "Результат:\n",
        "Стандартная коробка №3\n",
        "\n",
        "width = 45\n",
        "length = 205\n",
        "height = 45\n",
        "Результат:\n",
        "Ищите упаковку для лыж\n",
        "\n",
        "Задание 5 (необязательное)\n",
        "Дана переменная, в которой хранится шестизначное число (номер проездного билета). Напишите программу, которая будет определять, является ли данный билет \"счастливым\". Билет считается счастливым, если сумма первых трех цифр совпадает с суммой последних трех цифр номера.\n",
        "\n",
        "Примеры работы программы:\n",
        "\n",
        "number = 123456\n",
        "Результат:\n",
        "Несчастливый билет\n",
        "\n",
        "number = 123321\n",
        "Результат:\n",
        "Счастливый билет"
      ],
      "metadata": {
        "id": "b7S5INizhFWx"
      }
    },
    {
      "cell_type": "code",
      "source": [
        "phrase_1 = 'Насколько проще было бы писать программы, если бы не заказчики'\n",
        "phrase_2 = '640Кб должно хватить для любых задач. Билл Гейтс (по легенде) '\n",
        "\n",
        "if len(phrase_1) > len(phrase_2):\n",
        "  print('Фраза 1 длиннее фразы 2')\n",
        "elif len(phrase_1) < len(phrase_2):\n",
        "  print('Фраза 2 длиннее фразы 1')\n",
        "else:\n",
        "  print('Фразы равной длины')"
      ],
      "metadata": {
        "colab": {
          "base_uri": "https://localhost:8080/"
        },
        "id": "vl-IcsydQPtW",
        "outputId": "bffbae30-7208-45cc-ea0d-de6fe791b350"
      },
      "execution_count": null,
      "outputs": [
        {
          "output_type": "stream",
          "name": "stdout",
          "text": [
            "Фразы равной длины\n"
          ]
        }
      ]
    },
    {
      "cell_type": "code",
      "source": [
        "year = 2018\n",
        "\n",
        "if year % 4 == 0:\n",
        "  print('Високосный год')\n",
        "else:\n",
        "  print('Обычный год')"
      ],
      "metadata": {
        "colab": {
          "base_uri": "https://localhost:8080/"
        },
        "id": "yFSTAEliRS70",
        "outputId": "94604013-c3b0-481c-d16f-ed7c4da19a59"
      },
      "execution_count": null,
      "outputs": [
        {
          "output_type": "stream",
          "name": "stdout",
          "text": [
            "Обычный год\n"
          ]
        }
      ]
    },
    {
      "cell_type": "code",
      "source": [
        "day = int(input('Введите день: \\n'))\n",
        "month = input('Введите месяц: \\n')\n",
        "\n",
        "if month == 'Январь':\n",
        "  if day >= 20:\n",
        "    print('Ваш знак зодиака: Водолей')\n",
        "  else:\n",
        "    print('Ваш знак зодиака: Козерог')\n",
        "elif month == 'Февраль':\n",
        "  if day >= 19:\n",
        "    print('Ваш знак зодиака: Рыбы')\n",
        "  else:\n",
        "    print('Ваш знак зодиака: Водолей')\n",
        "elif month == 'Март':\n",
        "  if day >= 21:\n",
        "    print('Ваш знак зодиака: Овен')\n",
        "  else:\n",
        "    print('Ваш знак зодиака: Рыбы')\n",
        "elif month == 'Апрель':\n",
        "  if day >= 20:\n",
        "    print('Ваш знак зодиака: Телец')\n",
        "  else:\n",
        "    print('Ваш знак зодиака: Овен')\n",
        "elif month == 'Май':\n",
        "  if day >= 21:\n",
        "    print('Ваш знак зодиака: Близнецы')\n",
        "  else:\n",
        "    print('Ваш знак зодиака: Телец')\n",
        "elif month == 'Июнь':\n",
        "  if day >= 21:\n",
        "    print('Ваш знак зодиака: Рак')\n",
        "  else:\n",
        "    print('Ваш знак зодиака: Близнецы')\n",
        "elif month == 'Июль':\n",
        "  if day >= 23:\n",
        "    print('Ваш знак зодиака: Лев')\n",
        "  else:\n",
        "    print('Ваш знак зодиака: Рак')\n",
        "elif month == 'Август':\n",
        "  if day >= 23:\n",
        "    print('Ваш знак зодиака: Дева')\n",
        "  else:\n",
        "    print('Ваш знак зодиака: Лев')\n",
        "elif month == 'Сентябрь':\n",
        "  if day >= 23:\n",
        "    print('Ваш знак зодиака: Весы')\n",
        "  else:\n",
        "    print('Ваш знак зодиака: Дева')\n",
        "elif month == 'Октябрь':\n",
        "  if day >= 23:\n",
        "    print('Ваш знак зодиака: Скорпион')\n",
        "  else:\n",
        "    print('Ваш знак зодиака: Весы')\n",
        "elif month == 'Ноябрь':\n",
        "  if day >= 22:\n",
        "    print('Ваш знак зодиака: Стрелец')\n",
        "  else:\n",
        "    print('Ваш знак зодиака: Скорпион')\n",
        "elif month == 'Декабрь':\n",
        "  if day >= 22:\n",
        "    print('Ваш знак зодиака: Козерог')\n",
        "  else:\n",
        "    print('Ваш знак зодиака: Стрелец')\n",
        "    \n"
      ],
      "metadata": {
        "colab": {
          "base_uri": "https://localhost:8080/"
        },
        "id": "3JVP-63lR0_i",
        "outputId": "5cb6ab32-6daf-4de0-c6f8-a3a0a28988dc"
      },
      "execution_count": null,
      "outputs": [
        {
          "output_type": "stream",
          "name": "stdout",
          "text": [
            "Введите день: \n",
            "27\n",
            "Введите месяц: Апрель\n",
            "Ваш знак зодиака: Телец\n"
          ]
        }
      ]
    },
    {
      "cell_type": "code",
      "execution_count": null,
      "metadata": {
        "id": "5OaqeEAONpXR",
        "outputId": "dd8d676b-615e-4fca-801e-97214d5227f5",
        "colab": {
          "base_uri": "https://localhost:8080/"
        }
      },
      "outputs": [
        {
          "output_type": "stream",
          "name": "stdout",
          "text": [
            "Коробка №3\n"
          ]
        }
      ],
      "source": [
        "width = 15\n",
        "length = 55\n",
        "height = 15\n",
        "\n",
        "if (width <= 15 and length <= 15 and height <= 15):\n",
        "    print('Коробка №1')\n",
        "elif (length > 200 or width > 200 or height > 200):\n",
        "    print('Упаковка для лыж')\n",
        "elif ((width > 15 and width < 50) or (length > 15 and length < 50) or (height > 15 and height < 50)):\n",
        "    print('Коробка №2')\n",
        "else:\n",
        "    print('Коробка №3')"
      ]
    },
    {
      "cell_type": "code",
      "source": [
        "number = 456708\n",
        "ticket = [int(i) for i in str(number)]\n",
        "sum_first = ticket[0]+ticket[1]+ticket[2]\n",
        "sum_second = ticket[3]+ticket[4]+ticket[5]\n",
        "if sum_first == sum_second:\n",
        "  print('Счастливый билет')\n",
        "else:\n",
        "  print('Несчастливый билет')"
      ],
      "metadata": {
        "colab": {
          "base_uri": "https://localhost:8080/"
        },
        "id": "mtsS_Ic9_OWD",
        "outputId": "ba4fdc20-f248-4934-8538-c339644065cf"
      },
      "execution_count": null,
      "outputs": [
        {
          "output_type": "stream",
          "name": "stdout",
          "text": [
            "Счастливый билет\n"
          ]
        }
      ]
    },
    {
      "cell_type": "markdown",
      "source": [
        "Напишите программу, которая сможет вычислять площади трех фигур (круг, треугольник и прямоугольник). Тип фигуры запрашиваем через пользовательский ввод, после чего делаем запрос характеристик фигуры:\n",
        "\n",
        "если пользователь выбрал круг, запрашиваем его радиус,\n",
        "если треугольник – длины трех его сторон;\n",
        "если прямоугольник – длины двух его сторон.\n",
        "Пример работы программы:\n",
        "\n",
        "Введите тип фигуры:\n",
        "Круг\n",
        "\n",
        "Введите радиус круга:\n",
        "10\n",
        "Результат:\n",
        "Площадь круга: 314.16\n",
        "\n",
        "Введите тип фигуры:\n",
        "Треугольник\n",
        "\n",
        "Введите длину стороны A:\n",
        "2\n",
        "\n",
        "Введите длину стороны B:\n",
        "2\n",
        "\n",
        "Введите длину стороны C:\n",
        "3\n",
        "Результат:\n",
        "Площадь треугольника: 1.98"
      ],
      "metadata": {
        "id": "P-tPoxkdBa3r"
      }
    },
    {
      "cell_type": "code",
      "source": [
        "import numpy as np\n",
        "\n",
        "figure_type = input('Введите тип фигуры: ')\n",
        "if figure_type == 'Круг':\n",
        "  radius = int(input('Введите радиус круга: '))\n",
        "  circle_square = 2*np.pi*(radius**2)\n",
        "  print(\"Площадь круга: %.2f\" % round(circle_square, 2))\n",
        "elif figure_type == 'Треугольник':\n",
        "  a_side = int(input('Введите длину стороны А: '))\n",
        "  b_side = int(input('Введите длину стороны В: '))\n",
        "  c_side = int(input('Введите длину стороны C: '))\n",
        "  triangle_perimeter = (a_side+b_side+c_side)/2\n",
        "  triangle_square = (triangle_perimeter*(triangle_perimeter - a_side)*(triangle_perimeter - b_side)*(triangle_perimeter - c_side)) **(0.5)\n",
        "  print(\"Площадь треугольника: %.2f\" % round(triangle_square, 2))\n",
        "elif figure_type == 'Прямоугольник':\n",
        "  a = int(input('Введите длину стороны A: '))\n",
        "  b = int(input('Введите длину стороны В: '))\n",
        "  rectangle_square = (a + b) / 2\n",
        "  print(\"Площадь прямоугольника: %.2f\" % rectangle_square)\n",
        "else:\n",
        "  print('Не знаю такой фигуры')"
      ],
      "metadata": {
        "colab": {
          "base_uri": "https://localhost:8080/"
        },
        "id": "pE65Q4C0BR26",
        "outputId": "48d7e6cf-4c14-4f17-e959-a9e8152e7318"
      },
      "execution_count": null,
      "outputs": [
        {
          "output_type": "stream",
          "name": "stdout",
          "text": [
            "Введите тип фигуры: Прямоугольник\n",
            "Введите длину стороны A: 2\n",
            "Введите длину стороны В: 3\n",
            "Площадь прямоугольника: 2.50\n"
          ]
        }
      ]
    }
  ],
  "metadata": {
    "kernelspec": {
      "display_name": "Python 3 (ipykernel)",
      "language": "python",
      "name": "python3"
    },
    "language_info": {
      "codemirror_mode": {
        "name": "ipython",
        "version": 3
      },
      "file_extension": ".py",
      "mimetype": "text/x-python",
      "name": "python",
      "nbconvert_exporter": "python",
      "pygments_lexer": "ipython3",
      "version": "3.7.16"
    },
    "colab": {
      "provenance": []
    }
  },
  "nbformat": 4,
  "nbformat_minor": 0
}